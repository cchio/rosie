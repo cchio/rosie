{
 "cells": [
  {
   "cell_type": "code",
   "execution_count": 3,
   "id": "45f5389c-1227-4a5e-8ae0-19de5ab824b9",
   "metadata": {},
   "outputs": [],
   "source": [
    "import json\n",
    "from revChatGPT.revChatGPT import Chatbot"
   ]
  },
  {
   "cell_type": "code",
   "execution_count": 6,
   "id": "a34b37d4-181e-41d6-8818-db7f8ccd0fae",
   "metadata": {},
   "outputs": [],
   "source": [
    "config_file = open('config.json')\n",
    "config = json.load(config_file)"
   ]
  },
  {
   "cell_type": "code",
   "execution_count": 8,
   "id": "2677f121-4349-45c4-92ef-55a30283e033",
   "metadata": {},
   "outputs": [],
   "source": [
    "chatbot = Chatbot(config, conversation_id=None)"
   ]
  },
  {
   "cell_type": "code",
   "execution_count": 9,
   "id": "ac76b7ae-4dbf-44ad-8103-996ac9e09759",
   "metadata": {},
   "outputs": [
    {
     "name": "stdout",
     "output_type": "stream",
     "text": [
      "{'message': 'I am Assistant, a large language model trained by OpenAI. I am not a real person, but a computer program designed to assist with answering questions and providing information on a wide range of topics. Is there something I can help you with?', 'conversation_id': 'd3f1e9ee-8b83-4161-b9b4-26f5b8a819a4', 'parent_id': 'f9b45390-6d41-4c6b-8b1d-35bea5034b4c'}\n"
     ]
    }
   ],
   "source": [
    "response = chatbot.get_chat_response(\"Who are you?\", output=\"text\")\n",
    "print(response)"
   ]
  },
  {
   "cell_type": "code",
   "execution_count": null,
   "id": "38ed8921-d657-4b54-92af-9e7a09d40ff6",
   "metadata": {},
   "outputs": [],
   "source": []
  }
 ],
 "metadata": {
  "kernelspec": {
   "display_name": "Python 3 (ipykernel)",
   "language": "python",
   "name": "python3"
  },
  "language_info": {
   "codemirror_mode": {
    "name": "ipython",
    "version": 3
   },
   "file_extension": ".py",
   "mimetype": "text/x-python",
   "name": "python",
   "nbconvert_exporter": "python",
   "pygments_lexer": "ipython3",
   "version": "3.10.8"
  }
 },
 "nbformat": 4,
 "nbformat_minor": 5
}
